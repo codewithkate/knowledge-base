{
 "cells": [
  {
   "cell_type": "markdown",
   "metadata": {},
   "source": [
    "# Representations of Color\n",
    "Converting input Hex codes to RGB and HSL."
   ]
  },
  {
   "cell_type": "code",
   "execution_count": 1,
   "metadata": {},
   "outputs": [
    {
     "data": {
      "text/plain": [
       "['#FF0000,', '#00ff00,', '#fff']"
      ]
     },
     "execution_count": 1,
     "metadata": {},
     "output_type": "execute_result"
    }
   ],
   "source": [
    "# Assuming input six values\n",
    "entries = input(\"Enter list of colors (#FF0000, #00ff00, #fff):\").split()\n",
    "entries"
   ]
  },
  {
   "cell_type": "code",
   "execution_count": null,
   "metadata": {},
   "outputs": [],
   "source": [
    "def hexFormat(s:str):\n",
    "\n",
    "    s = s.replace('#','')\n",
    "    \n",
    "    if len(s) == 3:\n",
    "        s = [s[i] * 2 for i in range(3)] \n",
    "\n",
    "    return ''.join(s)"
   ]
  },
  {
   "cell_type": "code",
   "execution_count": null,
   "metadata": {},
   "outputs": [],
   "source": [
    "colors = [hexFormat(s) for s in entries]\n",
    "colors"
   ]
  },
  {
   "cell_type": "markdown",
   "metadata": {},
   "source": [
    "## Hex to RGB\n",
    "Convert every set of two hexidecimals to decimals."
   ]
  },
  {
   "cell_type": "code",
   "execution_count": null,
   "metadata": {},
   "outputs": [],
   "source": [
    "def hexToRGB(h:str):\n",
    "    # hexadecimal to decimal\n",
    "    return [int(h[i:i+2], 16) for i in (0, 2, 4)]"
   ]
  },
  {
   "cell_type": "code",
   "execution_count": 13,
   "metadata": {},
   "outputs": [
    {
     "data": {
      "text/plain": [
       "[[255, 0, 0], [0, 255, 0], [255, 255, 255]]"
      ]
     },
     "execution_count": 13,
     "metadata": {},
     "output_type": "execute_result"
    }
   ],
   "source": [
    "rgb_colors = [hexToRGB(i) for i in colors]\n",
    "rgb_colors"
   ]
  },
  {
   "cell_type": "markdown",
   "metadata": {},
   "source": [
    "## RGB to HSL\n",
    "This human-friendly conversion allows us to represent color on a color wheel by determining where the color point exists in relation to pure red, green, or blue. We can do this in 4 steps:\n",
    "\n",
    "**Step 1**. Calculate the max, min, and chroma.  \n",
    "\n",
    "$$\n",
    "\\begin{alignat*}{3}\n",
    "M = max(R, G, B) \\\\\n",
    "m = min(R, G, B) \\\\\n",
    "C = range(R, G, B) = M - m\n",
    "\\end{alignat*}\n",
    "$$\n",
    "\n",
    "**Step 2**. Calculate the hue measured in degrees `[0°, 360°)`.\n",
    "\n",
    "$$\n",
    "H' = \n",
    "\\begin{cases}\n",
    "\\text{undefined}, & \\text{if } C = 0 \\\\\n",
    "\\frac{G-B}{C} \\bmod 6, & \\text{if } M = R \\\\\n",
    "\\frac{B-R}{C} + 2, & \\text{if } M = G \\\\\n",
    "\\frac{R-G}{C} + 4, & \\text{if } M = B\n",
    "\\end{cases}\n",
    "$$\n",
    "\n",
    "Then, $H = 60° × H'$\n",
    "\n",
    "**Step 3**. Calculate Lightness measuring color intensity using set `[0%, 100%)`.\n",
    "\n",
    "$$\n",
    "L = mid(R, G, B) = \\frac{1}{2}(M + m) \n",
    "$$\n",
    "\n",
    "**Step 4**. Calculate Saturation determined by the amount of grayscale or pure color from `[0%, 100%)`.\n",
    "\n",
    "$$\n",
    "S_L =\n",
    "\\begin{cases}\n",
    "0, & \\text{if } L = 1 \\text{ or } L = 0 \\\\\n",
    "\\frac{C}{1-|2L-1|}, & \\text{otherwise}\n",
    "\\end{cases}\n",
    "$$\n",
    "\n",
    "\n",
    "See [wiki page](https://en.wikipedia.org/wiki/HSL_and_HSV)."
   ]
  },
  {
   "cell_type": "code",
   "execution_count": 14,
   "metadata": {},
   "outputs": [],
   "source": [
    "def rgbToHSL(rgb:list):\n",
    "    # Change range from 0-255 to 0-100%\n",
    "    r = rgb[0] / 255\n",
    "    g = rgb[1] / 255\n",
    "    b = rgb[2] / 255\n",
    "\n",
    "    # Determine Chroma component values \n",
    "    cmax = max(r, g, b)\n",
    "    cmin = min(r, g, b)\n",
    "    delta = cmax - cmin\n",
    "\n",
    "    # Calculate Hue: Distance from white (0-350 degrees)\n",
    "    if delta == 0:\n",
    "        h = 0\n",
    "    elif cmax == r:                # more red\n",
    "        h = (g - b) / delta % 6\n",
    "    elif cmax == g:\n",
    "        h = (b - r) / delta + 2.0   # more green\n",
    "    else:                       # more blue\n",
    "        h = (r - g) / delta + 4.0\n",
    "\n",
    "    # Calulate Lightness: Midrange of RGB (0-100%)\n",
    "    l = (cmax + cmin) / 2\n",
    "\n",
    "    # Calulate Saturation: Gray to Pure (0-100%)\n",
    "    if delta == 0:\n",
    "        s = 0\n",
    "    else:\n",
    "        s = delta / (1 - abs(2 * l - 1))\n",
    "    \n",
    "\n",
    "    h = round(h * 60)\n",
    "    s = round(s, 2)\n",
    "    l = round(l, 2)\n",
    "    return [h, s, l]"
   ]
  },
  {
   "cell_type": "code",
   "execution_count": 16,
   "metadata": {},
   "outputs": [
    {
     "data": {
      "text/plain": [
       "[[0, 1.0, 0.5], [120, 1.0, 0.5], [0, 0, 1.0]]"
      ]
     },
     "execution_count": 16,
     "metadata": {},
     "output_type": "execute_result"
    }
   ],
   "source": [
    "hsl_colors = [rgbToHSL(i) for i in rgb_colors]\n",
    "hsl_colors"
   ]
  },
  {
   "cell_type": "markdown",
   "metadata": {},
   "source": [
    "## Lightness Adjustments\n",
    "Some recommended lightness adjustment values:\n",
    "\n",
    "- Subtle: ±10%\n",
    "- Moderate: ±20%\n",
    "- Dramatic: ±30%\n",
    "- High contrast: ±40%\n",
    "\n",
    "Generated by *ClaudeAI*"
   ]
  },
  {
   "cell_type": "code",
   "execution_count": 33,
   "metadata": {},
   "outputs": [],
   "source": [
    "def adjustLightness(hsl:list, amount=20, lighter=True):\n",
    "    h = hsl[0]\n",
    "    s = hsl[1]\n",
    "    l = hsl[2]\n",
    "\n",
    "    if lighter: \n",
    "        return [h, s, min(100, l + amount)]\n",
    "    else: \n",
    "        return [h, s, max(0, l - amount)]"
   ]
  },
  {
   "cell_type": "code",
   "execution_count": 42,
   "metadata": {},
   "outputs": [],
   "source": [
    "light_colors = [adjustLightness(hsl_colors[i], amount = 0.2, lighter=True) for i in range(len(hsl_colors))]\n",
    "dark_colors = [adjustLightness(hsl_colors[i], amount = 0.2, lighter=False) for i in range(len(hsl_colors))]"
   ]
  },
  {
   "cell_type": "code",
   "execution_count": 45,
   "metadata": {},
   "outputs": [
    {
     "name": "stdout",
     "output_type": "stream",
     "text": [
      "Light: [0, 1.0, 0.7]\n",
      "Base: [0, 1.0, 0.5]\n",
      "Dark: [0, 1.0, 0.3]\n",
      "---\n",
      "Light: [120, 1.0, 0.7]\n",
      "Base: [120, 1.0, 0.5]\n",
      "Dark: [120, 1.0, 0.3]\n",
      "---\n",
      "Light: [0, 0, 1.2]\n",
      "Base: [0, 0, 1.0]\n",
      "Dark: [0, 0, 0.8]\n",
      "---\n"
     ]
    }
   ],
   "source": [
    "for i in range(len(hsl_colors)):\n",
    "    print(\"Light:\", light_colors[i])\n",
    "    print(\"Base:\", hsl_colors[i])\n",
    "    print(\"Dark:\", dark_colors[i])\n",
    "    print('---')"
   ]
  },
  {
   "cell_type": "markdown",
   "metadata": {},
   "source": [
    "# HSL to Hex\n",
    "Returning to Tableau compatible colors using built-in hex function."
   ]
  },
  {
   "cell_type": "markdown",
   "metadata": {},
   "source": [
    "### HSL to RGB\n"
   ]
  },
  {
   "cell_type": "code",
   "execution_count": null,
   "metadata": {},
   "outputs": [],
   "source": [
    "# Find chroma\n",
    "chroma = (1 - abs(2*l - 1)) * s\n",
    "\n",
    "# Find point (r,g,b) of RGB cube\n",
    "X = chroma * (1 - abs((h/60) % 2 - 1))\n",
    "\n",
    "if      0 <= h < 1: rgb = [chroma, X, 0]\n",
    "elif    1 <= h < 2: rgb = [X, chroma, 0]\n",
    "elif    2 <= h < 3: rgb = [0, chroma, X]\n",
    "elif    3 <= h < 4: rgb = [0, X, chroma]\n",
    "elif    4 <= h < 5: rgb = [X, 0, chroma]\n",
    "elif    5 <= h < 6: rgb = [chroma, 0, X]\n",
    "\n",
    "# Match the lightness\n",
    "m = l - chroma/2\n",
    "RGB = [int((i+m) * 255) for i in rgb]\n",
    "RGB"
   ]
  },
  {
   "cell_type": "markdown",
   "metadata": {},
   "source": [
    "### RGB to Hex"
   ]
  },
  {
   "cell_type": "code",
   "execution_count": null,
   "metadata": {},
   "outputs": [],
   "source": [
    "# step 3: decimal RGB values in range 0-255\n",
    "RGB = [round(i * 255) for i in [r,g,b]]"
   ]
  },
  {
   "cell_type": "code",
   "execution_count": null,
   "metadata": {},
   "outputs": [],
   "source": [
    "# RGB values to hexadecimals\n",
    "hexCode = [str(hex(int(i))[2:]) for i in RGB]\n",
    "hexCode"
   ]
  },
  {
   "cell_type": "code",
   "execution_count": null,
   "metadata": {},
   "outputs": [],
   "source": [
    "# six digit format\n",
    "for i in range(len(hexCode)):\n",
    "    if len(hexCode[i]) != 2:\n",
    "        hexCode[i] *= 2 \n",
    "\n",
    "hexCode = ''.join(hexCode)"
   ]
  },
  {
   "cell_type": "code",
   "execution_count": null,
   "metadata": {},
   "outputs": [],
   "source": [
    "hexCode == colorCode"
   ]
  },
  {
   "cell_type": "markdown",
   "metadata": {},
   "source": [
    "# Next steps\n",
    "\n",
    "Adam's flow:\n",
    "\n",
    "1. input name, palette type and codes\n",
    "2. tokenizes colors into multiple rows\n",
    "3. checks that entries are hex codes\n",
    "4. Group by name\n",
    "5. handles 3 and 6 hex formats\n",
    "6. format colors (<color>#123456</color>)\n",
    "7. Format palettes by replacing $ with newlines \n",
    "8. Export code\n",
    "\n",
    "\n",
    "Mods:\n",
    "\n",
    "1. +Check box for palette types\n",
    "2. ok\n",
    "3. ok\n",
    "5. move up\n",
    "4. Split flow by name and type\n",
    "    - [ ] Categorical: **group** base colors\n",
    "    - [ ] Sequential: **adjust lightness** for each base color\n",
    "    - [ ] Diverging: **generate complementary color** for each base color\n",
    "    - [ ] Transparent: **output row** with #FFFFFF00\n",
    "6. ok\n",
    "7. +tabs\n",
    "- [ ] Format headers\n",
    "8. ok\n",
    "\n"
   ]
  },
  {
   "cell_type": "markdown",
   "metadata": {},
   "source": []
  }
 ],
 "metadata": {
  "kernelspec": {
   "display_name": "base",
   "language": "python",
   "name": "python3"
  },
  "language_info": {
   "codemirror_mode": {
    "name": "ipython",
    "version": 3
   },
   "file_extension": ".py",
   "mimetype": "text/x-python",
   "name": "python",
   "nbconvert_exporter": "python",
   "pygments_lexer": "ipython3",
   "version": "3.12.4"
  }
 },
 "nbformat": 4,
 "nbformat_minor": 2
}
