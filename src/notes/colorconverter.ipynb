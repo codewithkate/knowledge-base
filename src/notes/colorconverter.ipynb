{
 "cells": [
  {
   "cell_type": "markdown",
   "metadata": {},
   "source": [
    "# Representations of Color\n",
    "Converting input Hex codes to RGB and HSL."
   ]
  },
  {
   "cell_type": "code",
   "execution_count": 1,
   "metadata": {},
   "outputs": [
    {
     "data": {
      "text/plain": [
       "['ff0000']"
      ]
     },
     "execution_count": 1,
     "metadata": {},
     "output_type": "execute_result"
    }
   ],
   "source": [
    "# Assuming input six values\n",
    "entries = input(\"Enter list of colors (#FF0000, #00ff00, #fff):\").split()\n",
    "entries"
   ]
  },
  {
   "cell_type": "code",
   "execution_count": 2,
   "metadata": {},
   "outputs": [],
   "source": [
    "def hexFormat(s:str):\n",
    "\n",
    "    s = s.replace('#','')\n",
    "    \n",
    "    if len(s) == 3:\n",
    "        s = [s[i] * 2 for i in range(3)] \n",
    "\n",
    "    return ''.join(s)"
   ]
  },
  {
   "cell_type": "code",
   "execution_count": 3,
   "metadata": {},
   "outputs": [
    {
     "data": {
      "text/plain": [
       "['ff0000']"
      ]
     },
     "execution_count": 3,
     "metadata": {},
     "output_type": "execute_result"
    }
   ],
   "source": [
    "colors = [hexFormat(s) for s in entries]\n",
    "colors"
   ]
  },
  {
   "cell_type": "markdown",
   "metadata": {},
   "source": [
    "## Hex to RGB\n",
    "Convert every set of two hexidecimals to decimals."
   ]
  },
  {
   "cell_type": "code",
   "execution_count": 4,
   "metadata": {},
   "outputs": [],
   "source": [
    "def hexToRGB(h:str):\n",
    "    # hexadecimal to decimal\n",
    "    return [int(h[i:i+2], 16) for i in (0, 2, 4)]"
   ]
  },
  {
   "cell_type": "code",
   "execution_count": 5,
   "metadata": {},
   "outputs": [
    {
     "data": {
      "text/plain": [
       "[[255, 0, 0]]"
      ]
     },
     "execution_count": 5,
     "metadata": {},
     "output_type": "execute_result"
    }
   ],
   "source": [
    "rgb_colors = [hexToRGB(i) for i in colors]\n",
    "rgb_colors"
   ]
  },
  {
   "cell_type": "markdown",
   "metadata": {},
   "source": [
    "## RGB to HSL\n",
    "This human-friendly conversion allows us to represent color on a color wheel by determining where the color point exists in relation to pure red, green, or blue. We can do this in 4 steps:\n",
    "\n",
    "**Step 1**. Calculate the max, min, and chroma.  \n",
    "\n",
    "$\n",
    "M = max(R, G, B) \\\\\n",
    "m = min(R, G, B) \\\\\n",
    "C = range(R, G, B) = M - m$\n",
    "\n",
    "**Step 2**. Calculate the hue measured in degrees `[0°, 360°)`.  \n",
    "\n",
    "$H' = \n",
    "\\begin{cases}\n",
    "\\text{undefined}, & \\text{if } C = 0 \\\\\n",
    "\\frac{G-B}{C} \\bmod 6, & \\text{if } M = R \\\\\n",
    "\\frac{B-R}{C} + 2, & \\text{if } M = G \\\\\n",
    "\\frac{R-G}{C} + 4, & \\text{if } M = B\n",
    "\\end{cases}$\n",
    "\n",
    "Then, $H = 60° × H'$\n",
    "\n",
    "**Step 3**. Calculate Lightness measuring color intensity using set `[0%, 100%)`.\n",
    "\n",
    "$L = mid(R, G, B) = \\frac{1}{2}(M + m)$\n",
    "    \n",
    "\n",
    "**Step 4**. Calculate Saturation determined by the amount of grayscale or pure color from `[0%, 100%)`.\n",
    "\n",
    "$S_L =\n",
    "\\begin{cases}\n",
    "0, & \\text{if } L = 1 \\text{ or } L = 0 \\\\\n",
    "\\frac{C}{1-|2L-1|}, & \\text{otherwise}\n",
    "\\end{cases}$\n",
    "  \n",
    "\n",
    "See [wiki page](https://en.wikipedia.org/wiki/HSL_and_HSV)."
   ]
  },
  {
   "cell_type": "code",
   "execution_count": 6,
   "metadata": {},
   "outputs": [],
   "source": [
    "def rgbToHSL(rgb:list):\n",
    "    # Change range from 0-255 to 0-100%\n",
    "    r = rgb[0] / 255\n",
    "    g = rgb[1] / 255\n",
    "    b = rgb[2] / 255\n",
    "\n",
    "    # Determine Chroma component values \n",
    "    cmax = max(r, g, b)\n",
    "    cmin = min(r, g, b)\n",
    "    delta = cmax - cmin\n",
    "\n",
    "    # Calculate Hue: Distance from white (0-350 degrees)\n",
    "    if delta == 0:\n",
    "        h = 0\n",
    "    elif cmax == r:                # more red\n",
    "        h = (g - b) / delta % 6\n",
    "    elif cmax == g:\n",
    "        h = (b - r) / delta + 2.0   # more green\n",
    "    else:                       # more blue\n",
    "        h = (r - g) / delta + 4.0\n",
    "\n",
    "    # Calulate Lightness: Midrange of RGB (0-100%)\n",
    "    l = (cmax + cmin) / 2\n",
    "\n",
    "    # Calulate Saturation: Gray to Pure (0-100%)\n",
    "    if delta == 0:\n",
    "        s = 0\n",
    "    else:\n",
    "        s = delta / (1 - abs(2 * l - 1))\n",
    "    \n",
    "\n",
    "    h = round(h * 60)\n",
    "    s = round(s, 2)\n",
    "    l = round(l, 2)\n",
    "    return [h, s, l]"
   ]
  },
  {
   "cell_type": "code",
   "execution_count": 7,
   "metadata": {},
   "outputs": [
    {
     "data": {
      "text/plain": [
       "[[0, 1.0, 0.5]]"
      ]
     },
     "execution_count": 7,
     "metadata": {},
     "output_type": "execute_result"
    }
   ],
   "source": [
    "hsl_colors = [rgbToHSL(i) for i in rgb_colors]\n",
    "hsl_colors"
   ]
  },
  {
   "cell_type": "markdown",
   "metadata": {},
   "source": [
    "# Lightness Adjustments\n",
    "Center the base lightness value and generate a range of shades and tints in the same hue. Tints add light to the lightness (`l`). Shades removes light from the lightness (`l`). Functions assume that l is a decimal value. The base color value is included in the final output."
   ]
  },
  {
   "cell_type": "code",
   "execution_count": 99,
   "metadata": {},
   "outputs": [],
   "source": [
    "# Fixed lightness values from 5% to 90%\n",
    "def sequence(hsl_values:list, n=10, min_l=10, max_l=90) -> list:\n",
    "    h = round(hsl_values[0]*100)\n",
    "    s = round(hsl_values[1]*100)\n",
    "    l = round(hsl_values[2]*100)\n",
    "    \n",
    "    shade_diff = int((l - min_l) / (n/2))\n",
    "    shades = [i for i in range(min_l, l, shade_diff)]\n",
    "\n",
    "    tint_diff = int((max_l - l) / (n/2))\n",
    "    tints = [i for i in range(l, max_l, tint_diff)]\n",
    "\n",
    "    return [[h,s,l/100] for l in shades+tints]"
   ]
  },
  {
   "cell_type": "code",
   "execution_count": 106,
   "metadata": {},
   "outputs": [
    {
     "data": {
      "text/plain": [
       "[[[0, 100, 0.1],\n",
       "  [0, 100, 0.18],\n",
       "  [0, 100, 0.26],\n",
       "  [0, 100, 0.34],\n",
       "  [0, 100, 0.42],\n",
       "  [0, 100, 0.5],\n",
       "  [0, 100, 0.58],\n",
       "  [0, 100, 0.66],\n",
       "  [0, 100, 0.74],\n",
       "  [0, 100, 0.82]]]"
      ]
     },
     "execution_count": 106,
     "metadata": {},
     "output_type": "execute_result"
    }
   ],
   "source": [
    "[sequence(hsl_colors[i]) for i in range(len(hsl_colors))]"
   ]
  },
  {
   "cell_type": "markdown",
   "metadata": {},
   "source": [
    "# Complimentary Colors\n",
    "Colors compliment each other when they are directly opposite one another on the color wheel. Add $180\\degree$ to the base color hue value."
   ]
  },
  {
   "cell_type": "code",
   "execution_count": 101,
   "metadata": {},
   "outputs": [],
   "source": [
    "def compliment(hsl_values:list):\n",
    "    h = hsl_values[0]\n",
    "    s = hsl_values[1]\n",
    "    l = hsl_values[2]\n",
    "\n",
    "    if (h + 180) > 360:\n",
    "        return [h-180, s, l]\n",
    "    else:\n",
    "        return [h+180, s, l]"
   ]
  },
  {
   "cell_type": "code",
   "execution_count": 102,
   "metadata": {},
   "outputs": [
    {
     "data": {
      "text/plain": [
       "[[180, 1.0, 0.5]]"
      ]
     },
     "execution_count": 102,
     "metadata": {},
     "output_type": "execute_result"
    }
   ],
   "source": [
    "[compliment(hsl_colors[i]) for i in range(len(hsl_colors))]"
   ]
  },
  {
   "cell_type": "markdown",
   "metadata": {},
   "source": [
    "# HSL to Hex\n",
    "Returning to machine compatible colors."
   ]
  },
  {
   "cell_type": "markdown",
   "metadata": {},
   "source": [
    "### HSL to RGB\n",
    "Step 1. Find chroma.\n",
    "\n",
    "$C = (1 - |2L - 1|) * S_L$\n",
    "  \n",
    "\n",
    "Step 2. Find a point (R,G,B) with the same hue and chroma.\n",
    "\n",
    "$H' = \\frac{H}{60\\degree}$\n",
    "    \n",
    "$X = C s (1 |H' \\mod 2 - 1|) \\\\$  \n",
    " \n",
    "$(R_1, G_1, B_1) = \n",
    "\\begin{cases}\n",
    "(C, X, 0) & \\text{if } 0<=H'<1 \\\\\n",
    "(X, C, 0) & \\text{if } 1<=H'<2 \\\\\n",
    "(0, C, X) & \\text{if } 2<=H'<3 \\\\\n",
    "(0, X, C) & \\text{if } 3<=H'<4 \\\\\n",
    "(X, 0, C) & \\text{if } 4<=H'<5 \\\\\n",
    "(C, 0, X) & \\text{if } 5<=H'<6 \\\\\n",
    "\\end{cases}$\n",
    "\n",
    "Step 3. Add amount to match the lightness.\n",
    "\n",
    "$m = L - \\frac{C}{2}$  \n",
    " \n",
    "$(R, G, B) = (R_1 + m, G_1 + m, B_1 + m)$"
   ]
  },
  {
   "cell_type": "code",
   "execution_count": null,
   "metadata": {},
   "outputs": [],
   "source": [
    "def hslToRGB(colors:list):\n",
    "    h = colors[0]\n",
    "    s = colors[1]\n",
    "    l = colors[2]\n",
    "\n",
    "    # Find chroma\n",
    "    chroma = (1 - abs(2*l - 1)) * s\n",
    "\n",
    "    # Find point (r,g,b) of RGB cube\n",
    "    X = chroma * (1 - abs((h/60) % 2 - 1))\n",
    "\n",
    "    if      0 <= h < 1: rgb = [chroma, X, 0]\n",
    "    elif    1 <= h < 2: rgb = [X, chroma, 0]\n",
    "    elif    2 <= h < 3: rgb = [0, chroma, X]\n",
    "    elif    3 <= h < 4: rgb = [0, X, chroma]\n",
    "    elif    4 <= h < 5: rgb = [X, 0, chroma]\n",
    "    else:   rgb = [chroma, 0, X]\n",
    "\n",
    "    # Match the lightness\n",
    "    m = l - chroma/2\n",
    "    return [int((i+m) * 255) for i in rgb]"
   ]
  },
  {
   "cell_type": "code",
   "execution_count": null,
   "metadata": {},
   "outputs": [
    {
     "data": {
      "text/plain": [
       "[[255, 0, 0]]"
      ]
     },
     "execution_count": 18,
     "metadata": {},
     "output_type": "execute_result"
    }
   ],
   "source": [
    "rgb_colors2 = [hslToRGB(i) for i in hsl_colors]\n",
    "rgb_colors2"
   ]
  },
  {
   "cell_type": "markdown",
   "metadata": {},
   "source": [
    "### RGB to Hex"
   ]
  },
  {
   "cell_type": "code",
   "execution_count": null,
   "metadata": {},
   "outputs": [],
   "source": [
    "def rgbToHex(colors:list):\n",
    "    hexcode = [hex(i)[2:] for i in colors]\n",
    "\n",
    "    # six digit format\n",
    "    for i in range(len(hexcode)):\n",
    "        if len(hexcode[i]) != 2:\n",
    "            hexcode[i] *= 2 \n",
    "    \n",
    "    return ''.join(hexcode)"
   ]
  },
  {
   "cell_type": "code",
   "execution_count": null,
   "metadata": {},
   "outputs": [
    {
     "data": {
      "text/plain": [
       "['ff0000']"
      ]
     },
     "execution_count": 20,
     "metadata": {},
     "output_type": "execute_result"
    }
   ],
   "source": [
    "hex_colors = [rgbToHex(i) for i in rgb_colors2]\n",
    "hex_colors"
   ]
  },
  {
   "cell_type": "code",
   "execution_count": null,
   "metadata": {},
   "outputs": [],
   "source": []
  }
 ],
 "metadata": {
  "kernelspec": {
   "display_name": "base",
   "language": "python",
   "name": "python3"
  },
  "language_info": {
   "codemirror_mode": {
    "name": "ipython",
    "version": 3
   },
   "file_extension": ".py",
   "mimetype": "text/x-python",
   "name": "python",
   "nbconvert_exporter": "python",
   "pygments_lexer": "ipython3",
   "version": "3.12.4"
  }
 },
 "nbformat": 4,
 "nbformat_minor": 2
}
